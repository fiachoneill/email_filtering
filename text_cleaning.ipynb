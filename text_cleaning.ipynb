{
  "nbformat": 4,
  "nbformat_minor": 0,
  "metadata": {
    "colab": {
      "name": "Untitled14.ipynb",
      "version": "0.3.2",
      "provenance": [],
      "collapsed_sections": []
    },
    "kernelspec": {
      "name": "python3",
      "display_name": "Python 3"
    }
  },
  "cells": [
    {
      "metadata": {
        "id": "CDLGqMgS_Tnq",
        "colab_type": "code",
        "colab": {}
      },
      "cell_type": "code",
      "source": [
        "from google.colab import drive\n",
        "import os\n",
        "import io\n",
        "import string\n",
        "import pandas as pd\n",
        "import nltk\n",
        "from textblob import Word\n",
        "from nltk.corpus import stopwords\n",
        "nltk.download('words')\n",
        "nltk.download('wordnet')\n",
        "nltk.download('punkt')\n",
        "nltk.download('stopwords')\n",
        "words = set(nltk.corpus.words.words())\n",
        "stop = stopwords.words('english')"
      ],
      "execution_count": 0,
      "outputs": []
    },
    {
      "metadata": {
        "id": "6WMPQ1maG1cU",
        "colab_type": "code",
        "colab": {}
      },
      "cell_type": "code",
      "source": [
        "drive.mount('/content/drive')"
      ],
      "execution_count": 0,
      "outputs": []
    },
    {
      "metadata": {
        "id": "de5EB9PvHUJk",
        "colab_type": "code",
        "colab": {}
      },
      "cell_type": "code",
      "source": [
        "os.chdir(\"drive/My Drive/Colab Notebooks/sum/\")"
      ],
      "execution_count": 0,
      "outputs": []
    },
    {
      "metadata": {
        "id": "6a30cykPUgsj",
        "colab_type": "code",
        "colab": {}
      },
      "cell_type": "code",
      "source": [
        "df = pd.read_csv('Reviews.csv',encoding = \"ISO-8859-1\")"
      ],
      "execution_count": 0,
      "outputs": []
    },
    {
      "metadata": {
        "id": "hHn0pH-aAb1C",
        "colab_type": "code",
        "colab": {}
      },
      "cell_type": "code",
      "source": [
        "df = df.drop(['Id','UserId','ProfileName','HelpfulnessNumerator',\n",
        "              'Time','Score','HelpfulnessDenominator','ProductId'\n",
        "                     ],axis=1,inplace=False)#Drop unnecessary columns\n",
        "df.dropna() #drop NANs\n"
      ],
      "execution_count": 0,
      "outputs": []
    },
    {
      "metadata": {
        "id": "awwTTVDTKmLI",
        "colab_type": "code",
        "colab": {}
      },
      "cell_type": "code",
      "source": [
        "df['Text'] = df['Text'].str.replace('[^\\w\\s]','') #remove chars\n",
        "df['Text'] = df[\"Text\"].map(lambda x: x if type(x)!=str else x.lower()) #convert to lower case\n",
        "df['Text'] = df['Text'].apply(lambda x: \" \".join(x for x in x.split() if x not in stop)) #remove stopwords\n",
        "\n",
        "df['Summary'] = df['Summary'].str.replace('[^\\w\\s]','') #remove chars\n",
        "df['Summary'] = df[\"Summary\"].map(lambda x: x if type(x)!=str else x.lower()) #convert to lower case"
      ],
      "execution_count": 0,
      "outputs": []
    },
    {
      "metadata": {
        "id": "m6p16MAnZGqj",
        "colab_type": "code",
        "colab": {}
      },
      "cell_type": "code",
      "source": [
        "sample = df.iloc[:888454] #Dataset is very large, reduce it for faster training"
      ],
      "execution_count": 0,
      "outputs": []
    },
    {
      "metadata": {
        "id": "0xZrPOdhYJDt",
        "colab_type": "code",
        "colab": {}
      },
      "cell_type": "code",
      "source": [
        "from sklearn.model_selection import KFold\n",
        "kf = KFold(n_splits = 5, shuffle = True, random_state = 2)\n",
        "res = next(kf.split(df), None) #K-Fold cross validation split\n",
        "\n",
        "train = sample.iloc[res[0]]\n",
        "val =  sample.iloc[res[1]]"
      ],
      "execution_count": 0,
      "outputs": []
    },
    {
      "metadata": {
        "id": "Nj-F0uqzdDIv",
        "colab_type": "code",
        "colab": {}
      },
      "cell_type": "code",
      "source": [
        "train.to_csv('train.csv')\n",
        "val.to_csv('val.csv') #Save to new train & validation files"
      ],
      "execution_count": 0,
      "outputs": []
    }
  ]
}